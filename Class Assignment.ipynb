{
 "cells": [
  {
   "cell_type": "code",
   "execution_count": 1,
   "metadata": {},
   "outputs": [],
   "source": [
    "# Create a class and function, and list out the items in the list\n",
    "\n",
    "class SubfieldsInAI():\n",
    "    def Subfields():\n",
    "        print(\"Sub-fields in AI are:\")\n",
    "        Lists=[\"Machine Learning\",\"Neutral Networks\",\"Vision\",\"Robotics\",\"Speech Processing\",\"Natural Language Processing\"]\n",
    "        for List in Lists:\n",
    "            print(List)"
   ]
  },
  {
   "cell_type": "code",
   "execution_count": 2,
   "metadata": {},
   "outputs": [
    {
     "name": "stdout",
     "output_type": "stream",
     "text": [
      "Sub-fields in AI are:\n",
      "Machine Learning\n",
      "Neutral Networks\n",
      "Vision\n",
      "Robotics\n",
      "Speech Processing\n",
      "Natural Language Processing\n"
     ]
    }
   ],
   "source": [
    "SubfieldsInAI.Subfields()"
   ]
  },
  {
   "cell_type": "code",
   "execution_count": null,
   "metadata": {},
   "outputs": [],
   "source": []
  },
  {
   "cell_type": "code",
   "execution_count": 3,
   "metadata": {},
   "outputs": [],
   "source": [
    "# Create a function that checks whether the given number is Odd or Even\n",
    "\n",
    "class OddEven():\n",
    "    def oddeven():\n",
    "        enter=int(input(\"Enter a number: \"))\n",
    "        if(enter%2==0):\n",
    "            print(enter,\"is Even number\")\n",
    "        else:\n",
    "            print(enter,\"is Odd number\")"
   ]
  },
  {
   "cell_type": "code",
   "execution_count": 4,
   "metadata": {},
   "outputs": [
    {
     "name": "stdout",
     "output_type": "stream",
     "text": [
      "Enter a number: 75645\n",
      "75645 is Odd number\n"
     ]
    }
   ],
   "source": [
    "OddEven.oddeven()"
   ]
  },
  {
   "cell_type": "code",
   "execution_count": null,
   "metadata": {},
   "outputs": [],
   "source": []
  },
  {
   "cell_type": "code",
   "execution_count": 5,
   "metadata": {},
   "outputs": [],
   "source": [
    "# Create a function that tells elegibility of marriage for male and female according to their age limit like 21 for male and 18 for female\n",
    "\n",
    "class ElegiblityForMarriage():\n",
    "    def Elegible():\n",
    "        Gender=input(\"Your Gender:\")\n",
    "        age=int(input(\"Your Age:\"))\n",
    "        if(Gender==\"Male\",age==\"18\"):\n",
    "            print(\"NOT ELIGIBLE\")"
   ]
  },
  {
   "cell_type": "code",
   "execution_count": 6,
   "metadata": {},
   "outputs": [
    {
     "name": "stdout",
     "output_type": "stream",
     "text": [
      "Your Gender:Male\n",
      "Your Age:21\n",
      "NOT ELIGIBLE\n"
     ]
    }
   ],
   "source": [
    "ElegiblityForMarriage.Elegible()"
   ]
  },
  {
   "cell_type": "code",
   "execution_count": null,
   "metadata": {},
   "outputs": [],
   "source": []
  },
  {
   "cell_type": "code",
   "execution_count": 7,
   "metadata": {},
   "outputs": [],
   "source": [
    "# calculate the percentage of your 10th mark\n",
    "\n",
    "class FindPercent():\n",
    "    def percentage():\n",
    "        m1=int(input(\"Subject1= \"))\n",
    "        m2=int(input(\"Subject2= \"))\n",
    "        m3=int(input(\"Subject3= \"))\n",
    "        m4=int(input(\"Subject4= \"))\n",
    "        m5=int(input(\"Subject5= \"))\n",
    "        Total=[m1+m2+m3+m4+m5]\n",
    "        for total in Total:\n",
    "            print(\"Total: \",total)\n",
    "            percentage=[(total/500)*100]  \n",
    "            for Percentage in percentage:\n",
    "                print(\"Percentage: \",Percentage)\n",
    "    "
   ]
  },
  {
   "cell_type": "code",
   "execution_count": 8,
   "metadata": {},
   "outputs": [
    {
     "name": "stdout",
     "output_type": "stream",
     "text": [
      "Subject1= 97\n",
      "Subject2= 87\n",
      "Subject3= 95\n",
      "Subject4= 78\n",
      "Subject5= 97\n",
      "Total:  454\n",
      "Percentage:  90.8\n"
     ]
    }
   ],
   "source": [
    "FindPercent.percentage()"
   ]
  },
  {
   "cell_type": "code",
   "execution_count": null,
   "metadata": {},
   "outputs": [],
   "source": []
  },
  {
   "cell_type": "code",
   "execution_count": 9,
   "metadata": {},
   "outputs": [],
   "source": [
    "#print area and perimeter of triangle using class and functions\n",
    "\n",
    "class triangle():\n",
    "    def triangle():\n",
    "        height=int(input(\"Height:\"))\n",
    "        breadth=int(input(\"Breadth:\"))\n",
    "        Areaformula= [height*breadth/2]\n",
    "        for area in Areaformula:\n",
    "            print(\"Area of Traingle:\",area)\n",
    "            Height1=int(input(\"Height1:\"))\n",
    "            Height2=int(input(\"Height2:\"))\n",
    "            Breadth=int(input(\"Breadth:\"))\n",
    "            perimeter=[Height1+Height2+Breadth]\n",
    "            print(\"Perimeter formula: Height1+Height2+Breadth\")\n",
    "            for peri in perimeter:\n",
    "                print(\"Perimeter of traiangle:\",peri)"
   ]
  },
  {
   "cell_type": "code",
   "execution_count": 10,
   "metadata": {},
   "outputs": [
    {
     "name": "stdout",
     "output_type": "stream",
     "text": [
      "Height:32\n",
      "Breadth:43\n",
      "Area of Traingle: 688.0\n",
      "Height1:3\n",
      "Height2:3\n",
      "Breadth:3\n",
      "Perimeter formula: Height1+Height2+Breadth\n",
      "Perimeter of traiangle: 9\n"
     ]
    }
   ],
   "source": [
    "triangle.triangle()"
   ]
  },
  {
   "cell_type": "code",
   "execution_count": null,
   "metadata": {},
   "outputs": [],
   "source": []
  }
 ],
 "metadata": {
  "kernelspec": {
   "display_name": "Python 3",
   "language": "python",
   "name": "python3"
  },
  "language_info": {
   "codemirror_mode": {
    "name": "ipython",
    "version": 3
   },
   "file_extension": ".py",
   "mimetype": "text/x-python",
   "name": "python",
   "nbconvert_exporter": "python",
   "pygments_lexer": "ipython3",
   "version": "3.7.4"
  }
 },
 "nbformat": 4,
 "nbformat_minor": 2
}
